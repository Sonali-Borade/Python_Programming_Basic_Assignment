{
 "cells": [
  {
   "cell_type": "markdown",
   "id": "e910221a",
   "metadata": {},
   "source": [
    "# 1.\tWrite a Python Program to Find the Factorial of a Number?"
   ]
  },
  {
   "cell_type": "code",
   "execution_count": 4,
   "id": "6281dfa7",
   "metadata": {},
   "outputs": [
    {
     "name": "stdout",
     "output_type": "stream",
     "text": [
      "Enter a number for factorial :5\n",
      "120\n"
     ]
    }
   ],
   "source": [
    "def fact(n):\n",
    "    j=1\n",
    "    for i in range(1,n+1):\n",
    "        \n",
    "        j=j*i\n",
    "        \n",
    "    print(j)\n",
    "n=int(input(\"Enter a number for factorial :\")) \n",
    "\n",
    "fact(n)\n"
   ]
  },
  {
   "cell_type": "markdown",
   "id": "22e943a9",
   "metadata": {},
   "source": [
    "# 2.\tWrite a Python Program to Display the multiplication Table?"
   ]
  },
  {
   "cell_type": "code",
   "execution_count": 5,
   "id": "f343986e",
   "metadata": {},
   "outputs": [
    {
     "name": "stdout",
     "output_type": "stream",
     "text": [
      "Enter the number to mutlipication table:5\n",
      "Multiplication of entered number is as follows : 5\n",
      "Multiplication of entered number is as follows : 10\n",
      "Multiplication of entered number is as follows : 15\n",
      "Multiplication of entered number is as follows : 20\n",
      "Multiplication of entered number is as follows : 25\n",
      "Multiplication of entered number is as follows : 30\n",
      "Multiplication of entered number is as follows : 35\n",
      "Multiplication of entered number is as follows : 40\n",
      "Multiplication of entered number is as follows : 45\n",
      "Multiplication of entered number is as follows : 50\n"
     ]
    }
   ],
   "source": [
    "def mul(m):\n",
    "    k=1\n",
    "    for i in range(1,11): \n",
    "        k = i*m\n",
    "        print(f\"Multiplication of entered number is as follows : {k}\")\n",
    "m= int(input(\"Enter the number to mutlipication table:\")) \n",
    "mul(m)\n",
    "        "
   ]
  },
  {
   "cell_type": "markdown",
   "id": "59eb09f9",
   "metadata": {},
   "source": [
    "# 3.\tWrite a Python Program to Print the Fibonacci sequence?\n"
   ]
  },
  {
   "cell_type": "code",
   "execution_count": 6,
   "id": "24686863",
   "metadata": {},
   "outputs": [
    {
     "name": "stdout",
     "output_type": "stream",
     "text": [
      "Enter a number for getting a fibonacci series : 6\n",
      "0\n",
      "1\n",
      "1\n",
      "2\n",
      "3\n",
      "5\n",
      "8\n"
     ]
    }
   ],
   "source": [
    "def fib(z):\n",
    "    a=0\n",
    "    b=1\n",
    "    if z== 0:\n",
    "        print(a)\n",
    "    elif  z==1:\n",
    "        print(a+b)\n",
    "    else:\n",
    "        print(a)\n",
    "        print(b)\n",
    "        for l in range(1,z):\n",
    "            c=a+b\n",
    "            a=b\n",
    "            b=c\n",
    "            print(c)\n",
    "            \n",
    "z=int(input(\"Enter a number for getting a fibonacci series : \")) \n",
    "fib(z)\n",
    "    "
   ]
  },
  {
   "cell_type": "markdown",
   "id": "0fbe22c0",
   "metadata": {},
   "source": [
    "# 4.\tWrite a Python Program to Check Armstrong Number?"
   ]
  },
  {
   "cell_type": "code",
   "execution_count": 7,
   "id": "5b9b7167",
   "metadata": {},
   "outputs": [
    {
     "name": "stdout",
     "output_type": "stream",
     "text": [
      "Enter a number for armstrong: 54\n",
      "Number is not armstrong \n"
     ]
    }
   ],
   "source": [
    "arm_num=int(input(\"Enter a number for armstrong: \"))\n",
    "\n",
    "len_arm= len(str(arm_num))\n",
    "sum_arm = 0\n",
    "temp = arm_num\n",
    "\n",
    "\n",
    "\n",
    "while temp>0:\n",
    "    x= temp%10\n",
    "    sum_arm  +=x**len_arm\n",
    "    temp=temp//10\n",
    "    \n",
    "    \n",
    "if (arm_num ==sum_arm) :\n",
    "    print(\"THE NUMBER IS ARMSTRONG\")\n",
    "else:\n",
    "    print(\"Number is not armstrong \")\n",
    "    \n",
    "    \n",
    "    "
   ]
  },
  {
   "cell_type": "markdown",
   "id": "78071a76",
   "metadata": {},
   "source": [
    "# 5.\tWrite a Python Program to Find Armstrong Number in an Interval?"
   ]
  },
  {
   "cell_type": "code",
   "execution_count": 2,
   "id": "0fc9653c",
   "metadata": {},
   "outputs": [
    {
     "name": "stdout",
     "output_type": "stream",
     "text": [
      "Enter lower bond to find armstrong number1\n",
      "Enter upper bond to find armstrong number500\n",
      "1\n",
      "2\n",
      "3\n",
      "4\n",
      "5\n",
      "6\n",
      "7\n",
      "8\n",
      "9\n",
      "153\n",
      "370\n",
      "371\n",
      "407\n"
     ]
    }
   ],
   "source": [
    "l_bond=int(input(\"Enter lower bond to find armstrong number\"))\n",
    "u_bond=int(input(\"Enter upper bond to find armstrong number\"))\n",
    "\n",
    "for w in range(l_bond,u_bond +1):\n",
    "    len_arm_n= len(str(w))\n",
    "    sum_arm_n= 0\n",
    "    temp_n= w\n",
    "\n",
    "    while temp_n>0:\n",
    "        x_n= temp_n%10\n",
    "        sum_arm_n  +=x_n**len_arm_n\n",
    "        temp_n=temp_n//10\n",
    "    if (w ==sum_arm_n) :\n",
    "            print(w)\n",
    "    \n",
    "    \n",
    "    \n",
    "    "
   ]
  },
  {
   "cell_type": "markdown",
   "id": "45134c0d",
   "metadata": {},
   "source": [
    "# 6.\tWrite a Python Program to Find the Sum of Natural Numbers?"
   ]
  },
  {
   "cell_type": "code",
   "execution_count": 3,
   "id": "826116ef",
   "metadata": {},
   "outputs": [
    {
     "name": "stdout",
     "output_type": "stream",
     "text": [
      "Enter the number : 16\n",
      "The sum of natural number is  136\n"
     ]
    }
   ],
   "source": [
    "na_num=int(input(\"Enter the number : \"))\n",
    "\n",
    "if na_num<0:\n",
    "    print(\"Number positive\")\n",
    "else:\n",
    "    summ = 0\n",
    "    while(na_num >0):\n",
    "        summ= summ + na_num\n",
    "        na_num=na_num -1\n",
    "    print(\"The sum of natural number is \" , summ)    "
   ]
  },
  {
   "cell_type": "code",
   "execution_count": null,
   "id": "9f4eaeab",
   "metadata": {},
   "outputs": [],
   "source": []
  },
  {
   "cell_type": "code",
   "execution_count": null,
   "id": "c01b5992",
   "metadata": {},
   "outputs": [],
   "source": []
  },
  {
   "cell_type": "code",
   "execution_count": null,
   "id": "26ea09ec",
   "metadata": {},
   "outputs": [],
   "source": []
  },
  {
   "cell_type": "code",
   "execution_count": null,
   "id": "e931a242",
   "metadata": {},
   "outputs": [],
   "source": []
  },
  {
   "cell_type": "code",
   "execution_count": null,
   "id": "d7b4b68b",
   "metadata": {},
   "outputs": [],
   "source": []
  },
  {
   "cell_type": "code",
   "execution_count": null,
   "id": "1adb495c",
   "metadata": {},
   "outputs": [],
   "source": []
  }
 ],
 "metadata": {
  "kernelspec": {
   "display_name": "Python 3 (ipykernel)",
   "language": "python",
   "name": "python3"
  },
  "language_info": {
   "codemirror_mode": {
    "name": "ipython",
    "version": 3
   },
   "file_extension": ".py",
   "mimetype": "text/x-python",
   "name": "python",
   "nbconvert_exporter": "python",
   "pygments_lexer": "ipython3",
   "version": "3.9.7"
  }
 },
 "nbformat": 4,
 "nbformat_minor": 5
}
